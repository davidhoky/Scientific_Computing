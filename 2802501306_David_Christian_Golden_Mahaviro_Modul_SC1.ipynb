{
  "nbformat": 4,
  "nbformat_minor": 0,
  "metadata": {
    "colab": {
      "provenance": [],
      "authorship_tag": "ABX9TyPsx5KU52KhVF59n79E3q7l",
      "include_colab_link": true
    },
    "kernelspec": {
      "name": "python3",
      "display_name": "Python 3"
    },
    "language_info": {
      "name": "python"
    }
  },
  "cells": [
    {
      "cell_type": "markdown",
      "metadata": {
        "id": "view-in-github",
        "colab_type": "text"
      },
      "source": [
        "<a href=\"https://colab.research.google.com/github/davidhoky/Scientific_Computing/blob/main/2802501306_David_Christian_Golden_Mahaviro_Modul_SC1.ipynb\" target=\"_parent\"><img src=\"https://colab.research.google.com/assets/colab-badge.svg\" alt=\"Open In Colab\"/></a>"
      ]
    },
    {
      "cell_type": "code",
      "source": [
        "def calculate(uas, uts, assignment):\n",
        "    final_score = (0.5 * uas) + (0.3 * uts) + (0.2 * assignment)\n",
        "    if 90 <= final_score <= 100:\n",
        "        grade = \"A\"\n",
        "    elif 85 <= final_score <= 89:\n",
        "        grade = \"A-\"\n",
        "    elif 80 <= final_score <= 84:\n",
        "        grade = \"B+\"\n",
        "    elif 75 <= final_score <= 79:\n",
        "        grade = \"B\"\n",
        "    elif 70 <= final_score <= 74:\n",
        "        grade = \"B-\"\n",
        "    elif 65 <= final_score <= 69:\n",
        "        grade = \"C\"\n",
        "    elif 50 <= final_score <= 64:\n",
        "        grade = \"D\"\n",
        "    elif 0 <= final_score <= 49:\n",
        "        grade = \"E\"\n",
        "    else:\n",
        "        grade = \"F\"\n",
        "    return final_score, grade\n",
        "\n",
        "def login():\n",
        "\n",
        "    username = input(\"Masukkan username Anda: \")\n",
        "    password = input(\"Masukkan password Anda: \")\n",
        "\n",
        "    if username == \"David\" and password == \"Bn123\":\n",
        "        print(\"Login Berhasil, Selamat datang\", username)\n",
        "        return True\n",
        "    else:\n",
        "        print(\"Password Incorrect\")\n",
        "        return False\n",
        "\n",
        "def main():\n",
        "    while True:\n",
        "        if login():\n",
        "            break\n",
        "\n",
        "    while True:\n",
        "        nama_siswa = input(\"Masukkan nama siswa: \")\n",
        "        try:\n",
        "            nilai_uas = int(input(\"Masukkan Nilai UAS: \"))\n",
        "            nilai_uts = int(input(\"Masukkan Nilai UTS: \"))\n",
        "            nilai_assignment = int(input(\"Masukkan Nilai Assignment: \"))\n",
        "            break\n",
        "        except ValueError:\n",
        "            print(\"Input nilai harus berupa bilangan bulat.\")\n",
        "\n",
        "    final_score, grade = calculate(nilai_uas, nilai_uts, nilai_assignment)\n",
        "\n",
        "    print(\"Hasil perolehan nilai\", nama_siswa)\n",
        "    print(\"Final Score:\", final_score)\n",
        "    print(\"Grade:\", grade)\n",
        "\n",
        "if __name__ == \"__main__\":\n",
        "    main()"
      ],
      "metadata": {
        "colab": {
          "base_uri": "https://localhost:8080/"
        },
        "id": "vyBuv09XlY3k",
        "outputId": "cafe8953-ae1f-4b19-bc20-0bf6942b38be"
      },
      "execution_count": null,
      "outputs": [
        {
          "output_type": "stream",
          "name": "stdout",
          "text": [
            "Masukkan username Anda: David\n",
            "Masukkan password Anda: Bn123\n",
            "Login Berhasil, Selamat datang David\n",
            "Masukkan nama siswa: David\n",
            "Masukkan Nilai UAS: 90\n",
            "Masukkan Nilai UTS: 70\n",
            "Masukkan Nilai Assignment: 98\n",
            "Hasil perolehan nilai David\n",
            "Final Score: 85.6\n",
            "Grade: A-\n"
          ]
        }
      ]
    }
  ]
}