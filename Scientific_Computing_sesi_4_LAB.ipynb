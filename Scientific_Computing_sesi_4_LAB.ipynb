{
  "nbformat": 4,
  "nbformat_minor": 0,
  "metadata": {
    "colab": {
      "provenance": [],
      "authorship_tag": "ABX9TyPMtp08ketRTh0bfE57683x",
      "include_colab_link": true
    },
    "kernelspec": {
      "name": "python3",
      "display_name": "Python 3"
    },
    "language_info": {
      "name": "python"
    }
  },
  "cells": [
    {
      "cell_type": "markdown",
      "metadata": {
        "id": "view-in-github",
        "colab_type": "text"
      },
      "source": [
        "<a href=\"https://colab.research.google.com/github/davidhoky/Scientific_Computing/blob/main/Scientific_Computing_sesi_4_LAB.ipynb\" target=\"_parent\"><img src=\"https://colab.research.google.com/assets/colab-badge.svg\" alt=\"Open In Colab\"/></a>"
      ]
    },
    {
      "cell_type": "markdown",
      "source": [
        "**David Christian Golden Mahaviro 2802501306**"
      ],
      "metadata": {
        "id": "sxLNb3C5sU_L"
      }
    },
    {
      "cell_type": "code",
      "source": [
        "import numpy as np\n",
        "\n",
        "def my_bisection(f, a, b, tol):\n",
        "    if np.sign(f(a)) == np.sign(f(b)):\n",
        "        raise Exception(\"The Scalars 'a' and 'b' do not bound a root\")\n",
        "\n",
        "    m = (a + b) / 2\n",
        "\n",
        "    if np.abs(f(m)) < tol:\n",
        "        return m\n",
        "    elif np.sign(f(a)) == np.sign(f(m)):\n",
        "        return my_bisection(f, m, b, tol)\n",
        "    elif np.sign(f(b)) == np.sign(f(m)):\n",
        "        return my_bisection(f, a, m, tol)\n",
        "\n",
        "\n",
        "f = lambda x: x**2 - 2\n",
        "\n",
        "\n",
        "r1 = my_bisection(f, 0, 2, 0.1)\n",
        "print(\"r1=\", r1)\n",
        "r01 = my_bisection(f, 0, 2, 0.01)\n",
        "print(\"r01=\", r01)\n",
        "\n",
        "print(\"f(r1)=\", f(r1))\n",
        "print(\"f(r01)=\", f(r01))"
      ],
      "metadata": {
        "colab": {
          "base_uri": "https://localhost:8080/"
        },
        "id": "IUfQ1RBMxl5a",
        "outputId": "3d873428-4574-414b-ed2c-838b7cbbc900"
      },
      "execution_count": 15,
      "outputs": [
        {
          "output_type": "stream",
          "name": "stdout",
          "text": [
            "r1= 1.4375\n",
            "r01= 1.4140625\n",
            "f(r1)= 0.06640625\n",
            "f(r01)= -0.00042724609375\n"
          ]
        }
      ]
    },
    {
      "cell_type": "markdown",
      "source": [
        "**Newton Rapshon**"
      ],
      "metadata": {
        "id": "TMmA9eUty11G"
      }
    },
    {
      "cell_type": "code",
      "source": [
        "import numpy as np\n",
        "\n",
        "f=lambda x: x**2-2\n",
        "f_prime=lambda x: 2*x\n",
        "newton_raphson=1.4-(f(1.4))/(f_prime(1.4))\n",
        "\n",
        "print(\"newton_raphson=\",newton_raphson)\n",
        "print(\"sqrt(2)=\", np.sqrt(2))"
      ],
      "metadata": {
        "colab": {
          "base_uri": "https://localhost:8080/"
        },
        "id": "30n3iTs7zAoR",
        "outputId": "4d933560-8c1c-4b35-ffe6-d3b7f586d763"
      },
      "execution_count": 18,
      "outputs": [
        {
          "output_type": "stream",
          "name": "stdout",
          "text": [
            "newton_raphson= 1.4142857142857144\n",
            "sqrt(2)= 1.4142135623730951\n"
          ]
        }
      ]
    },
    {
      "cell_type": "code",
      "source": [
        "def my_newton(f, df, x0, tol):\n",
        "    if abs(f(x0)) < tol:\n",
        "        return x0\n",
        "    else:\n",
        "        return my_newton(f, df, x0 - f(x0) / df(x0), tol)"
      ],
      "metadata": {
        "id": "XbkC2eux0hBC"
      },
      "execution_count": 22,
      "outputs": []
    },
    {
      "cell_type": "code",
      "source": [
        "estimate=my_newton(f,f_prime,1.5,1e-6)\n",
        "print(\"estimate=\",estimate)\n",
        "print(\"sqrt(2)=\",np.sqrt(2))"
      ],
      "metadata": {
        "colab": {
          "base_uri": "https://localhost:8080/"
        },
        "id": "SkxzetK102cx",
        "outputId": "56ad76e5-2116-4416-b0b3-667687a0f7ba"
      },
      "execution_count": 24,
      "outputs": [
        {
          "output_type": "stream",
          "name": "stdout",
          "text": [
            "estimate= 1.4142135623746899\n",
            "sqrt(2)= 1.4142135623730951\n"
          ]
        }
      ]
    },
    {
      "cell_type": "markdown",
      "source": [
        "**LATIHAN**"
      ],
      "metadata": {
        "id": "8GFh1VF53Ou4"
      }
    },
    {
      "cell_type": "markdown",
      "source": [
        "**Metode Bisection**"
      ],
      "metadata": {
        "id": "6qaUVRnW7Iqw"
      }
    },
    {
      "cell_type": "code",
      "source": [
        "import numpy as np\n",
        "\n",
        "def my_bisection(f, a, b, tol):\n",
        "    if np.sign(f(a)) == np.sign(f(b)):\n",
        "        raise Exception(\"The Scalars 'a' and 'b' do not bound a root\")\n",
        "\n",
        "    m = (a + b) / 2\n",
        "\n",
        "    if np.abs(f(m)) < tol:\n",
        "        return m\n",
        "    elif np.sign(f(a)) == np.sign(f(m)):\n",
        "        return my_bisection(f, m, b, tol)\n",
        "    elif np.sign(f(b)) == np.sign(f(m)):\n",
        "        return my_bisection(f, a, m, tol)\n",
        "\n",
        "f = lambda x: np.sin(x) - x\n",
        "\n",
        "\n",
        "root = my_bisection(f, 0, 1, 0.01)\n",
        "print(\"Root =\", root)\n",
        "print(\"f(root) =\", f(root))\n"
      ],
      "metadata": {
        "colab": {
          "base_uri": "https://localhost:8080/"
        },
        "id": "exVbRRUM3SeJ",
        "outputId": "4be99ad8-2c14-4f82-fdd9-9875157c222e"
      },
      "execution_count": 1,
      "outputs": [
        {
          "output_type": "stream",
          "name": "stdout",
          "text": [
            "Root = 0.25\n",
            "f(root) = -0.002596040745477063\n"
          ]
        }
      ]
    },
    {
      "cell_type": "code",
      "source": [
        "def newton_raphson(f, df, x0, tol, max_iter=100):\n",
        "    x = x0\n",
        "    for i in range(max_iter):\n",
        "        fx = f(x)\n",
        "        if abs(fx) < tol:\n",
        "            return x\n",
        "        dfx = df(x)\n",
        "        if dfx == 0:\n",
        "            return None\n",
        "        x_new = x - fx / dfx\n",
        "        if abs(x_new - x) < tol:\n",
        "            return x_new\n",
        "        x = x_new\n",
        "    return None\n",
        "\n",
        "def f_newton(x):\n",
        "    return x**3 - 3*x**2 + 2*x\n",
        "\n",
        "def df_newton(x):\n",
        "    return 3*x**2 - 6*x + 2\n",
        "\n",
        "akar_newton = newton_raphson(f_newton, df_newton, 1.5, 0.01)\n",
        "print(akar_newton)"
      ],
      "metadata": {
        "colab": {
          "base_uri": "https://localhost:8080/"
        },
        "id": "oNNn4NK-7URw",
        "outputId": "4bb5ec75-543e-4f2e-a451-d04c4bfe9043"
      },
      "execution_count": 26,
      "outputs": [
        {
          "output_type": "stream",
          "name": "stdout",
          "text": [
            "0.0\n"
          ]
        }
      ]
    }
  ]
}